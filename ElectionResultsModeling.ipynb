{
 "cells": [
  {
   "cell_type": "markdown",
   "metadata": {},
   "source": [
    "# 2016 Election Prediction\n",
    "\n",
    "### Completed by Nighat Ansari\n",
    "\n",
    "    Using given data about voting states, this model uses margins to predict the likelihoods of certain outcomes  \n",
    "    in the 2016 election. \n",
    "\n",
    "    I made extensive uses of dictionaries, statisttics, and machine learning principles in creating this model.\n"
   ]
  },
  {
   "cell_type": "markdown",
   "metadata": {},
   "source": [
    "### About\n",
    "\n",
    "This model is a simplified 2016 US Election Forecast. Candidates Donald Trump and Hillary Clinton ran against each other and the data given contained information about how each of the 50 states voted in electoral college and popular vote. This model also uses different types of mathematical biases to predict chances of winning for each candidate. In the last portion, margins of victory are calculated using electoral college and popular votes and through 20,000 simulations, the model predicts the chances of a:\n",
    "\n",
    "1. **Trump Victory:** if Trump wins the electoral college. \n",
    "2. **Obama Zone:** if Clinton wins the electoral college and the margin of the popular vote win is less than 3.5%.\n",
    "3. **Narrow Clinton Win:** if Clinton wins the electoral college and the margin of the popular vote win is greater than 3.5% but less than 7.5%.\n",
    "4. **Clinton Blowout:** if Clinton wins the electoral college and the margin of the popular vote win is greater than or equal to 7.5%.\n"
   ]
  },
  {
   "cell_type": "markdown",
   "metadata": {},
   "source": [
    "### Importing\n",
    "Importing these modules will allow the notebook to graph, use dictionaries, and leevrage statistics functions (built into Python) like norm. We also import an election_data.py file which contains the data from all 50 states and how they voted."
   ]
  },
  {
   "cell_type": "code",
   "execution_count": 4,
   "metadata": {},
   "outputs": [],
   "source": [
    "%matplotlib inline\n",
    "import matplotlib.pyplot as plt\n",
    "import math\n",
    "import numpy as np\n",
    "\n",
    "from scipy.stats import norm\n",
    "from collections import defaultdict, Counter\n",
    "\n",
    "from election_data import mean_std, results2016"
   ]
  },
  {
   "cell_type": "markdown",
   "metadata": {},
   "source": [
    "### Election Data\n",
    "\n",
    "1. results2016 is a dictionary containing the popular vote percentages, electoral votes, and total votes across the 50 states. The states are keys with dictionaries of this information mapped to them.\n",
    "\n",
    "Uncomment the print statement below to see what results2016 looks like.\n",
    "\n",
    "2. mean_std is dictionary of tuples containing the mean and standard deviation of **Trump's votes** mapped to each state.\n",
    "\n",
    "Uncomment the print statement below to see what mean_std looks like."
   ]
  },
  {
   "cell_type": "code",
   "execution_count": 12,
   "metadata": {},
   "outputs": [],
   "source": [
    "#print(results2016)\n",
    "#print(mean_std)"
   ]
  },
  {
   "cell_type": "markdown",
   "metadata": {},
   "source": [
    "### Prediction 1\n",
    "No bias added."
   ]
  },
  {
   "cell_type": "code",
   "execution_count": 3,
   "metadata": {},
   "outputs": [
    {
     "name": "stdout",
     "output_type": "stream",
     "text": [
      "Chances Trump will win: 12.050000000000004%\n",
      "Chances Clinton will win: 87.94999999999999%\n"
     ]
    }
   ],
   "source": [
    "clinton = []\n",
    "counter1 = 0\n",
    "for i in range(0,10000):\n",
    "\n",
    "    trump_votes = 0\n",
    "    hillary_votes = 0\n",
    "    for key in mean_std:\n",
    "        if key in [\"Nebraska 1st District\", \"Nebraska 2nd District\", \"Nebraska 3rd District\",\"Maine 1st District\", \n",
    "                   \"Maine 2nd District\"]:\n",
    "            continue\n",
    "        elif key == \"Nebraska - statewide\":\n",
    "            x = \"Nebraska\"\n",
    "        elif key == \"Maine - statewide\":\n",
    "            x = \"Maine\"\n",
    "        else:\n",
    "            x = key\n",
    "        if norm.rvs(mean_std[key][0],mean_std[key][1]) > 0.5:\n",
    "            trump_votes = trump_votes + (results2016[x]['electoral_votes'])\n",
    "        else:\n",
    "            hillary_votes = hillary_votes + (results2016[x]['electoral_votes'])\n",
    "    \n",
    "    if hillary_votes >= 270:\n",
    "        counter1 += 1\n",
    "h_win = counter1/10000\n",
    "t_win = 1 - h_win\n",
    "print(\"Chances Trump will win: \" + str(t_win * 100) + \"%\")\n",
    "print(\"Chances Clinton will win: \" + str(h_win * 100) + \"%\") \n"
   ]
  },
  {
   "cell_type": "markdown",
   "metadata": {
    "collapsed": true
   },
   "source": [
    "### Prediction 2\n",
    "With a bias added."
   ]
  },
  {
   "cell_type": "code",
   "execution_count": 14,
   "metadata": {},
   "outputs": [
    {
     "name": "stdout",
     "output_type": "stream",
     "text": [
      "Chances Trump will win: 27.139999999999997%\n",
      "Chances Clinton will win: 72.86%\n"
     ]
    }
   ],
   "source": [
    "from election_data import mean_std, results2016\n",
    "from scipy.stats import norm\n",
    "\n",
    "clinton2 = []\n",
    "counter2 = 0\n",
    "for i in range(0,10000):\n",
    "    \n",
    "    trump_votes2 = 0\n",
    "    hillary_votes2 = 0\n",
    "    #overall bias\n",
    "    bias = norm.rvs(0,.016)\n",
    "    \n",
    "    \n",
    "    for key in mean_std:\n",
    "        if key in [\"Nebraska 1st District\", \"Nebraska 2nd District\", \"Nebraska 3rd District\",\"Maine 1st District\", \n",
    "                   \"Maine 2nd District\"]:\n",
    "            continue\n",
    "        elif key == \"Nebraska - statewide\":\n",
    "            x = \"Nebraska\"\n",
    "        elif key == \"Maine - statewide\":\n",
    "            x = \"Maine\"\n",
    "        else:\n",
    "            x = key\n",
    "        \n",
    "        if (norm.rvs(mean_std[key][0],mean_std[key][1]) + bias) > 0.5:\n",
    "            trump_votes2 = trump_votes2 + (results2016[x]['electoral_votes'])\n",
    "        else:\n",
    "            hillary_votes2 = hillary_votes2 + (results2016[x]['electoral_votes'])\n",
    "    \n",
    "    if hillary_votes2 >= 270:\n",
    "        counter2 += 1\n",
    "\n",
    "        \n",
    "h_win2 = counter2/10000\n",
    "t_win2 = 1 - h_win2\n",
    "\n",
    "print(\"Chances Trump will win: \" + str(t_win2 * 100) + \"%\")\n",
    "print(\"Chances Clinton will win: \" + str(h_win2 * 100) + \"%\") \n"
   ]
  },
  {
   "cell_type": "markdown",
   "metadata": {},
   "source": [
    "### Prediction 3\n",
    "With an overall bias added."
   ]
  },
  {
   "cell_type": "code",
   "execution_count": 15,
   "metadata": {},
   "outputs": [
    {
     "name": "stdout",
     "output_type": "stream",
     "text": [
      "With overall bias added: \n",
      "Chances Trump will win: 43.14%\n",
      "Chances Clinton will win: 56.86%\n"
     ]
    }
   ],
   "source": [
    "trumpp3 = []\n",
    "\n",
    "\n",
    "for i in range(0,10000):\n",
    "    bias2 = norm.rvs(.01,.002)\n",
    "    trump_votes3 = 0\n",
    "    hillary_votes3 = 0\n",
    "   \n",
    "    for key in mean_std:\n",
    "        \n",
    "        x2 = norm.rvs(mean_std[key][0],mean_std[key][1])\n",
    "        if key in [\"Nebraska 1st District\", \"Nebraska 2nd District\", \"Nebraska 3rd District\",\"Maine 1st District\", \"Maine 2nd District\"]:\n",
    "            continue\n",
    "        if key == \"Nebraska - statewide\":\n",
    "            x = \"Nebraska\"\n",
    "        elif key == \"Maine - statewide\":\n",
    "            x = \"Maine\"\n",
    "        else:\n",
    "            x = key\n",
    "        if x2 + bias2 > 0.5:\n",
    "            trump_votes3 = trump_votes3 + results2016[x]['electoral_votes']\n",
    "        else:\n",
    "            hillary_votes3 = hillary_votes3 + results2016[x]['electoral_votes']\n",
    "\n",
    "    if trump_votes3 >= 270:\n",
    "        trumpp3.append(\"Trump\")\n",
    "        \n",
    "t_win3 = len(trumpp3)/10000\n",
    "h_win3 = 1 - t_win3\n",
    "\n",
    "print(\"With overall bias added: \")\n",
    "print(\"Chances Trump will win: \" + str(t_win3 * 100) + \"%\")\n",
    "print(\"Chances Clinton will win: \" + str(h_win3 * 100) + \"%\") \n"
   ]
  },
  {
   "cell_type": "markdown",
   "metadata": {},
   "source": [
    "### Prediction Visualization\n",
    "\n",
    "This visual is split into 4 zones determined by margins of winning. Once again, the \"zones\" are:\n",
    "\n",
    "1. **Trump Victory:** if Trump wins the electoral college. \n",
    "2. **Obama Zone:** if Clinton wins the electoral college and the margin of the popular vote win is less than 3.5%.\n",
    "3. **Narrow Clinton Win:** if Clinton wins the electoral college and the margin of the popular vote win is greater than 3.5% but less than 7.5%.\n",
    "4. **Clinton Blowout:** if Clinton wins the electoral college and the margin of the popular vote win is greater than or equal to 7.5%.\n",
    "\n",
    "To determine whether Trump or Clinton won the electoral college votes, one must have greater than or equal to 270 votes. I used popular votes to calculate margins for both candidates. Using margins or differences in popular votes for the candidates, I determined how the visual's zones will be split and where they will overlap."
   ]
  },
  {
   "cell_type": "code",
   "execution_count": 16,
   "metadata": {},
   "outputs": [
    {
     "name": "stdout",
     "output_type": "stream",
     "text": [
      "Clinton Blowout: 12.005%\n",
      "Obama Zone: 37.61%\n",
      "Narrow Clinton Win: 22.78%\n",
      "Trump win: 27.605%\n"
     ]
    },
    {
     "data": {
      "image/png": "[encoded data removed]",
      "text/plain": [
       "<matplotlib.figure.Figure at 0x113c8cbe0>"
      ]
     },
     "metadata": {},
     "output_type": "display_data"
    }
   ],
   "source": [
    "\n",
    "c_margins = {}\n",
    "t_margins = {}\n",
    "c_1 = []\n",
    "c_2 = []\n",
    "c_3 = []\n",
    "t_win = []\n",
    "\n",
    "for i in range(0,20000):\n",
    "    t_popular = 0\n",
    "    h_popular = 0\n",
    "    trump_elec = 0\n",
    "    hillary_elec = 0\n",
    "    total_vote = 0\n",
    "    \n",
    "    bias5 = norm.rvs(0,.016)\n",
    "    \n",
    "    for key in mean_std:\n",
    "        prob = norm.rvs(mean_std[key][0], mean_std[key][1]) + bias5\n",
    "        if key in [\"Nebraska 1st District\", \"Nebraska 2nd District\", \"Nebraska 3rd District\",\"Maine 1st District\", \"Maine 2nd District\"]:\n",
    "            continue\n",
    "        if key == \"Nebraska - statewide\":\n",
    "            x = \"Nebraska\"\n",
    "        elif key == \"Maine - statewide\":\n",
    "            x = \"Maine\"\n",
    "        else:\n",
    "            x = key\n",
    "            \n",
    "        t_popular = t_popular + (prob * (results2016[x]['vote_total']))  \n",
    "        h_popular = h_popular + ((1 - prob) * (results2016[x]['vote_total']))\n",
    "        total_vote = total_vote + results2016[x]['vote_total']   \n",
    "        \n",
    "        if prob > 0.5:\n",
    "            trump_elec = trump_elec + (results2016[x]['electoral_votes'])\n",
    "        else:\n",
    "            hillary_elec = hillary_elec + (results2016[x]['electoral_votes'])\n",
    "    \n",
    "    if hillary_elec >= 270:\n",
    "        c_margin = ((h_popular - t_popular)/total_vote) * 100\n",
    "        cmargin = round(((h_popular - t_popular)/total_vote) * 100)\n",
    "        if cmargin in c_margins:\n",
    "            c_margins[cmargin] = c_margins.get(cmargin) + 1\n",
    "        else:\n",
    "            c_margins[cmargin] = 1 \n",
    "        \n",
    "        if cmargin >= 7.5:\n",
    "            c_1.append(cmargin)\n",
    "        elif cmargin >= 3.5 and cmargin < 7.5:\n",
    "            c_2.append(cmargin)\n",
    "        elif cmargin < 3.5:\n",
    "            c_3.append(cmargin)\n",
    "            \n",
    "    else:\n",
    "        t_margin = ((t_popular - h_popular)/total_vote) * 100\n",
    "        tmargin = round(((t_popular - h_popular)/total_vote) * 100)\n",
    "\n",
    "        if tmargin in t_margins:\n",
    "            t_margins[tmargin] = t_margins.get(tmargin) + 1           \n",
    "        else:\n",
    "            t_margins[tmargin] = 1 \n",
    "        t_win.append(tmargin)\n",
    "        \n",
    "        \n",
    "print(\"Clinton Blowout: \" + str((len(c_1)/20000) * 100) + \"%\")\n",
    "print(\"Obama Zone: \" + str((len(c_2)/20000) * 100) + \"%\")\n",
    "print(\"Narrow Clinton Win: \" + str((len(c_3)/20000) * 100) + \"%\")\n",
    "print(\"Trump win: \" + str((len(t_win)/20000) * 100) + \"%\")\n",
    "\n",
    "plt.figure(figsize=(15,15))\n",
    "\n",
    "\n",
    "barWidth = 1  \n",
    "\n",
    "    \n",
    "y_vals1 = []\n",
    "x_vals1 = []\n",
    "for x in np.arange(-20.0,21.0, 1.0):\n",
    "    if c_margins.get(x) == None:\n",
    "        c_margins[x] = 0\n",
    "    if t_margins.get(x) == None:\n",
    "        t_margins[x] = 0\n",
    "\n",
    "\n",
    "for key in sorted(c_margins):\n",
    "    y_vals1.append((c_margins[key]/20000) * 100)\n",
    "    x_vals1.append(key)\n",
    "\n",
    "    \n",
    "x_vals2 = []\n",
    "y_vals2 = []\n",
    "\n",
    "for key in sorted(t_margins):\n",
    "    y_vals2.append((t_margins[key]/20000) * 100)\n",
    "    x_vals2.append(key)  \n",
    "\n",
    "\n",
    "plt.title(\"2016 Election Forecast\", fontsize=16)\n",
    "plt.xlabel(\"Popular Vote Margin\", fontsize=14)\n",
    "plt.ylabel(\"% of Simulations\", fontsize=14)\n",
    "plt.xticks([val for val in range(-20,21,5)], [\"T+20\", \"T+15\", \"T+10\", \"T+5\", \"0\", \"C+5\", \"C+10\", \"C+15\", \"C+20\"])\n",
    "    \n",
    "plt.grid(axis='y')\n",
    "plt.grid(axis = 'x')\n",
    "plt.bar(x_vals1, y_vals1, bottom = y_vals2, width=barWidth, color='b', label='Rainfall', edgecolor = 'k');\n",
    "plt.bar(x_vals2, y_vals2, width=barWidth, color='r', label='Rainfall', edgecolor = 'k'); \n",
    "\n"
   ]
  },
  {
   "cell_type": "code",
   "execution_count": null,
   "metadata": {
    "collapsed": true
   },
   "outputs": [],
   "source": []
  }
 ],
 "metadata": {
  "kernelspec": {
   "display_name": "Python 3",
   "language": "python",
   "name": "python3"
  },
  "language_info": {
   "codemirror_mode": {
    "name": "ipython",
    "version": 3
   },
   "file_extension": ".py",
   "mimetype": "text/x-python",
   "name": "python",
   "nbconvert_exporter": "python",
   "pygments_lexer": "ipython3",
   "version": "3.6.4"
  }
 },
 "nbformat": 4,
 "nbformat_minor": 2
}
